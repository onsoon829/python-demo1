{
  "nbformat": 4,
  "nbformat_minor": 0,
  "metadata": {
    "colab": {
      "provenance": [],
      "toc_visible": true,
      "authorship_tag": "ABX9TyPcS1k7ng+9EZVvUSqUfM1U",
      "include_colab_link": true
    },
    "kernelspec": {
      "name": "python3",
      "display_name": "Python 3"
    },
    "language_info": {
      "name": "python"
    }
  },
  "cells": [
    {
      "cell_type": "markdown",
      "metadata": {
        "id": "view-in-github",
        "colab_type": "text"
      },
      "source": [
        "<a href=\"https://colab.research.google.com/github/onsoon829/python-demo1/blob/master/001_%ED%99%98%EA%B2%BD%EC%84%A4%EC%A0%95.ipynb\" target=\"_parent\"><img src=\"https://colab.research.google.com/assets/colab-badge.svg\" alt=\"Open In Colab\"/></a>"
      ]
    },
    {
      "cell_type": "code",
      "source": [
        "1+1"
      ],
      "metadata": {
        "colab": {
          "base_uri": "https://localhost:8080/"
        },
        "id": "EgzkVMzJK0XW",
        "outputId": "5eb20cf4-f6a1-4dcd-b547-79dadde0d8a7"
      },
      "execution_count": null,
      "outputs": [
        {
          "output_type": "execute_result",
          "data": {
            "text/plain": [
              "2"
            ]
          },
          "metadata": {},
          "execution_count": 3
        }
      ]
    },
    {
      "cell_type": "markdown",
      "source": [
        "ctrl+enter:실행\n",
        "shift+enter:실행+다음 라인 이동\n",
        "ALt+enter:실행+새로운 라인 추가\n",
        "B: 새로운 라인 추가"
      ],
      "metadata": {
        "id": "mB1t57jXK6ue"
      }
    },
    {
      "cell_type": "code",
      "source": [
        "print('Hello')"
      ],
      "metadata": {
        "colab": {
          "base_uri": "https://localhost:8080/"
        },
        "id": "Rcn1uRKtQtxm",
        "outputId": "0009168e-0d4e-4d2a-8291-175f9e3264e4"
      },
      "execution_count": null,
      "outputs": [
        {
          "output_type": "stream",
          "name": "stdout",
          "text": [
            "Hello\n"
          ]
        }
      ]
    },
    {
      "cell_type": "code",
      "source": [
        "#현재위치\n",
        "!pwd"
      ],
      "metadata": {
        "colab": {
          "base_uri": "https://localhost:8080/"
        },
        "id": "eSC-6W-GQyNW",
        "outputId": "984cc6cf-e698-4283-e3be-19420ca97105"
      },
      "execution_count": null,
      "outputs": [
        {
          "output_type": "stream",
          "name": "stdout",
          "text": [
            "/content\n"
          ]
        }
      ]
    },
    {
      "cell_type": "code",
      "source": [],
      "metadata": {
        "id": "AXs3FMFwUbTC"
      },
      "execution_count": null,
      "outputs": []
    },
    {
      "cell_type": "code",
      "source": [],
      "metadata": {
        "id": "AB9M0uSMUYHG"
      },
      "execution_count": null,
      "outputs": []
    },
    {
      "cell_type": "markdown",
      "source": [
        "#1. 구글 코랩 환경\n"
      ],
      "metadata": {
        "id": "JU70Yz8LUr83"
      }
    },
    {
      "cell_type": "code",
      "source": [
        "!cat /etc/issue.net"
      ],
      "metadata": {
        "colab": {
          "base_uri": "https://localhost:8080/"
        },
        "id": "fpKBisQtU0pu",
        "outputId": "c608346f-6aa7-4ba7-f7e7-7cae78ad4afc"
      },
      "execution_count": null,
      "outputs": [
        {
          "output_type": "stream",
          "name": "stdout",
          "text": [
            "Ubuntu 22.04.2 LTS\n"
          ]
        }
      ]
    },
    {
      "cell_type": "code",
      "source": [
        "#결과가 x86_64로 나오면 현재 설치됨 운영체제는 64bit이다.\n",
        "!uname -i"
      ],
      "metadata": {
        "colab": {
          "base_uri": "https://localhost:8080/"
        },
        "id": "3iMjy5MQVFBu",
        "outputId": "df578e30-819d-4ce4-9972-3c26d37bb8ab"
      },
      "execution_count": null,
      "outputs": [
        {
          "output_type": "stream",
          "name": "stdout",
          "text": [
            "x86_64\n"
          ]
        }
      ]
    },
    {
      "cell_type": "code",
      "source": [
        "!head /proc/cpuinfo"
      ],
      "metadata": {
        "colab": {
          "base_uri": "https://localhost:8080/"
        },
        "id": "SMDkbpKVVxj3",
        "outputId": "5f857200-0449-4e9c-f186-4afcebf713de"
      },
      "execution_count": null,
      "outputs": [
        {
          "output_type": "stream",
          "name": "stdout",
          "text": [
            "processor\t: 0\n",
            "vendor_id\t: GenuineIntel\n",
            "cpu family\t: 6\n",
            "model\t\t: 79\n",
            "model name\t: Intel(R) Xeon(R) CPU @ 2.20GHz\n",
            "stepping\t: 0\n",
            "microcode\t: 0xffffffff\n",
            "cpu MHz\t\t: 2200.216\n",
            "cache size\t: 56320 KB\n",
            "physical id\t: 0\n"
          ]
        }
      ]
    },
    {
      "cell_type": "code",
      "source": [
        "# memory\n",
        "!head /proc/meminfo"
      ],
      "metadata": {
        "colab": {
          "base_uri": "https://localhost:8080/"
        },
        "id": "doa233sPWK24",
        "outputId": "f345fa98-2f06-4d37-ee0b-9d2aa30f826b"
      },
      "execution_count": null,
      "outputs": [
        {
          "output_type": "stream",
          "name": "stdout",
          "text": [
            "MemTotal:       13294208 kB\n",
            "MemFree:        10267676 kB\n",
            "MemAvailable:   12325788 kB\n",
            "Buffers:           58908 kB\n",
            "Cached:          2202796 kB\n",
            "SwapCached:            0 kB\n",
            "Active:           697940 kB\n",
            "Inactive:        2111364 kB\n",
            "Active(anon):       1660 kB\n",
            "Inactive(anon):   547944 kB\n"
          ]
        }
      ]
    },
    {
      "cell_type": "markdown",
      "source": [
        "# 2. 구급 코랩 드라이버 연동"
      ],
      "metadata": {
        "id": "vT4aAvO8WeRz"
      }
    },
    {
      "cell_type": "code",
      "source": [
        "!pwd"
      ],
      "metadata": {
        "colab": {
          "base_uri": "https://localhost:8080/"
        },
        "id": "uVfotp3GWuSK",
        "outputId": "84efbcf3-2c1d-410a-e5a9-daa9ba99647b"
      },
      "execution_count": null,
      "outputs": [
        {
          "output_type": "stream",
          "name": "stdout",
          "text": [
            "/content\n"
          ]
        }
      ]
    },
    {
      "cell_type": "code",
      "source": [
        "# 구글ㄹ 드라이버 연동\n",
        "from google.colab import drive\n",
        "drive.mount('/content/drive')"
      ],
      "metadata": {
        "colab": {
          "base_uri": "https://localhost:8080/"
        },
        "id": "1fumOlozW56m",
        "outputId": "f8042d82-6736-4748-8119-9540bf4e067c"
      },
      "execution_count": null,
      "outputs": [
        {
          "output_type": "stream",
          "name": "stdout",
          "text": [
            "Drive already mounted at /content/drive; to attempt to forcibly remount, call drive.mount(\"/content/drive\", force_remount=True).\n"
          ]
        }
      ]
    },
    {
      "cell_type": "code",
      "source": [
        "%cd /content/drive/MyDrive/ai_chat python"
      ],
      "metadata": {
        "colab": {
          "base_uri": "https://localhost:8080/"
        },
        "id": "flXYFTcMXc6p",
        "outputId": "3bb3db6b-6185-48e3-bca8-2299664a60f7"
      },
      "execution_count": null,
      "outputs": [
        {
          "output_type": "stream",
          "name": "stdout",
          "text": [
            "/content/drive/MyDrive/ai_chat python\n"
          ]
        }
      ]
    },
    {
      "cell_type": "code",
      "source": [
        "!ls"
      ],
      "metadata": {
        "colab": {
          "base_uri": "https://localhost:8080/"
        },
        "id": "V9ZqzXFYYM3W",
        "outputId": "dcf795ab-a8b3-4cb9-f11e-79b78d20dd0b"
      },
      "execution_count": null,
      "outputs": [
        {
          "output_type": "stream",
          "name": "stdout",
          "text": [
            "asset  환경설정.ipynb\n"
          ]
        }
      ]
    },
    {
      "cell_type": "markdown",
      "source": [
        "# 3. 구글 드라이브 이미지 colab markdown에 넣기"
      ],
      "metadata": {
        "id": "642358c1Yjmf"
      }
    },
    {
      "cell_type": "code",
      "source": [
        "#  이미지주소를 복사 : 이미지 단축메뉴에서 링크->공유복사\n",
        "url = \"https://drive.google.com/file/d/19sIZ8R1YkZb_HnxxGKPHJ9IWK5Dm47Ba/view?usp=drive_link\"\n",
        "\n",
        "path='https://drive.google.com/uc?export=download&id='+url.split('/')[-2]\n",
        "size=\"width=\\\"\\\" \"+\"height =\\\"\\\" \"\n",
        "tag=\"<img src='\"+path+\"' \"+size+\"/><br>\"\n",
        "print(\" ▶️ Path : \", path)\n",
        "print('\\n',\"▶️ Tag : \", tag)"
      ],
      "metadata": {
        "colab": {
          "base_uri": "https://localhost:8080/"
        },
        "id": "dsatbhDBY2oI",
        "outputId": "1bb2fb1e-b0f3-4d15-c751-2904980996b4"
      },
      "execution_count": null,
      "outputs": [
        {
          "output_type": "stream",
          "name": "stdout",
          "text": [
            " ▶️ Path :  https://drive.google.com/uc?export=download&id=19sIZ8R1YkZb_HnxxGKPHJ9IWK5Dm47Ba\n",
            "\n",
            " ▶️ Tag :  <img src='https://drive.google.com/uc?export=download&id=19sIZ8R1YkZb_HnxxGKPHJ9IWK5Dm47Ba' width=\"\" height =\"\" /><br>\n"
          ]
        }
      ]
    },
    {
      "cell_type": "markdown",
      "source": [
        "<img src='https://drive.google.com/uc?export=download&id=19sIZ8R1YkZb_HnxxGKPHJ9IWK5Dm47Ba' width=\"\" height =\"\n",
        "\" />"
      ],
      "metadata": {
        "id": "BccISc2gfPTf"
      }
    },
    {
      "cell_type": "markdown",
      "source": [
        "#4. python 버전확인\n"
      ],
      "metadata": {
        "id": "-BPYIKqifLQe"
      }
    },
    {
      "cell_type": "code",
      "source": [
        "#!python --version\n",
        "!python -V"
      ],
      "metadata": {
        "colab": {
          "base_uri": "https://localhost:8080/"
        },
        "id": "8f8OtIXRfiFG",
        "outputId": "d29c6be0-6b3d-464d-e9e5-8ed8e5c22fc2"
      },
      "execution_count": null,
      "outputs": [
        {
          "output_type": "stream",
          "name": "stdout",
          "text": [
            "Python 3.10.12\n"
          ]
        }
      ]
    },
    {
      "cell_type": "markdown",
      "source": [
        "#5. pip로 설치된 라이브러리 확인"
      ],
      "metadata": {
        "id": "NDI9MYQXjO-D"
      }
    },
    {
      "cell_type": "code",
      "source": [
        "#!pip freeze"
      ],
      "metadata": {
        "id": "ObMDvI0xjU4-"
      },
      "execution_count": null,
      "outputs": []
    },
    {
      "cell_type": "markdown",
      "source": [
        "#6. 판다스 라이브러리 탑재\n"
      ],
      "metadata": {
        "id": "qCo5Af4dkjJn"
      }
    },
    {
      "cell_type": "code",
      "source": [
        "import pandas as pd"
      ],
      "metadata": {
        "id": "B0ni-ILFkmsf"
      },
      "execution_count": null,
      "outputs": []
    },
    {
      "cell_type": "code",
      "source": [
        "#설치된 모든 라이브러리 확인\n",
        "pd.show_versions()"
      ],
      "metadata": {
        "colab": {
          "base_uri": "https://localhost:8080/"
        },
        "id": "J7EPoTaokvUW",
        "outputId": "a72c93dd-8ef7-47b8-a76c-a462d07bee14"
      },
      "execution_count": null,
      "outputs": [
        {
          "output_type": "stream",
          "name": "stderr",
          "text": [
            "/usr/local/lib/python3.10/dist-packages/_distutils_hack/__init__.py:33: UserWarning: Setuptools is replacing distutils.\n",
            "  warnings.warn(\"Setuptools is replacing distutils.\")\n"
          ]
        },
        {
          "output_type": "stream",
          "name": "stdout",
          "text": [
            "\n",
            "INSTALLED VERSIONS\n",
            "------------------\n",
            "commit           : 2e218d10984e9919f0296931d92ea851c6a6faf5\n",
            "python           : 3.10.12.final.0\n",
            "python-bits      : 64\n",
            "OS               : Linux\n",
            "OS-release       : 5.15.120+\n",
            "Version          : #1 SMP Wed Aug 30 11:19:59 UTC 2023\n",
            "machine          : x86_64\n",
            "processor        : x86_64\n",
            "byteorder        : little\n",
            "LC_ALL           : en_US.UTF-8\n",
            "LANG             : en_US.UTF-8\n",
            "LOCALE           : en_US.UTF-8\n",
            "\n",
            "pandas           : 1.5.3\n",
            "numpy            : 1.23.5\n",
            "pytz             : 2023.3.post1\n",
            "dateutil         : 2.8.2\n",
            "setuptools       : 67.7.2\n",
            "pip              : 23.1.2\n",
            "Cython           : 3.0.5\n",
            "pytest           : 7.4.3\n",
            "hypothesis       : None\n",
            "sphinx           : 5.0.2\n",
            "blosc            : None\n",
            "feather          : None\n",
            "xlsxwriter       : None\n",
            "lxml.etree       : 4.9.3\n",
            "html5lib         : 1.1\n",
            "pymysql          : None\n",
            "psycopg2         : 2.9.9\n",
            "jinja2           : 3.1.2\n",
            "IPython          : 7.34.0\n",
            "pandas_datareader: 0.10.0\n",
            "bs4              : 4.11.2\n",
            "bottleneck       : None\n",
            "brotli           : None\n",
            "fastparquet      : None\n",
            "fsspec           : 2023.6.0\n",
            "gcsfs            : 2023.6.0\n",
            "matplotlib       : 3.7.1\n",
            "numba            : 0.58.1\n",
            "numexpr          : 2.8.7\n",
            "odfpy            : None\n",
            "openpyxl         : 3.1.2\n",
            "pandas_gbq       : 0.17.9\n",
            "pyarrow          : 9.0.0\n",
            "pyreadstat       : None\n",
            "pyxlsb           : None\n",
            "s3fs             : None\n",
            "scipy            : 1.11.3\n",
            "snappy           : None\n",
            "sqlalchemy       : 2.0.23\n",
            "tables           : 3.8.0\n",
            "tabulate         : 0.9.0\n",
            "xarray           : 2023.7.0\n",
            "xlrd             : 2.0.1\n",
            "xlwt             : None\n",
            "zstandard        : None\n",
            "tzdata           : None\n"
          ]
        }
      ]
    },
    {
      "cell_type": "markdown",
      "source": [
        "#7. 구글 코랩에서 그래프 한글 문제 해결"
      ],
      "metadata": {
        "id": "aG6zxIXvlQgF"
      }
    },
    {
      "cell_type": "code",
      "source": [
        "!sudo apt-get install -y fonts-nanum\n",
        "!sudo fc-cache -fv\n",
        "!rm ~/.cache/matplotlib -rf"
      ],
      "metadata": {
        "colab": {
          "base_uri": "https://localhost:8080/"
        },
        "id": "3Xn3m0GplUZ-",
        "outputId": "c5f66aab-50ec-4309-e362-5087a04869ba"
      },
      "execution_count": null,
      "outputs": [
        {
          "output_type": "stream",
          "name": "stdout",
          "text": [
            "Reading package lists... Done\n",
            "Building dependency tree... Done\n",
            "Reading state information... Done\n",
            "The following NEW packages will be installed:\n",
            "  fonts-nanum\n",
            "0 upgraded, 1 newly installed, 0 to remove and 19 not upgraded.\n",
            "Need to get 10.3 MB of archives.\n",
            "After this operation, 34.1 MB of additional disk space will be used.\n",
            "Get:1 http://archive.ubuntu.com/ubuntu jammy/universe amd64 fonts-nanum all 20200506-1 [10.3 MB]\n",
            "Fetched 10.3 MB in 0s (22.2 MB/s)\n",
            "debconf: unable to initialize frontend: Dialog\n",
            "debconf: (No usable dialog-like program is installed, so the dialog based frontend cannot be used. at /usr/share/perl5/Debconf/FrontEnd/Dialog.pm line 78, <> line 1.)\n",
            "debconf: falling back to frontend: Readline\n",
            "debconf: unable to initialize frontend: Readline\n",
            "debconf: (This frontend requires a controlling tty.)\n",
            "debconf: falling back to frontend: Teletype\n",
            "dpkg-preconfigure: unable to re-open stdin: \n",
            "Selecting previously unselected package fonts-nanum.\n",
            "(Reading database ... 120874 files and directories currently installed.)\n",
            "Preparing to unpack .../fonts-nanum_20200506-1_all.deb ...\n",
            "Unpacking fonts-nanum (20200506-1) ...\n",
            "Setting up fonts-nanum (20200506-1) ...\n",
            "Processing triggers for fontconfig (2.13.1-4.2ubuntu5) ...\n",
            "/usr/share/fonts: caching, new cache contents: 0 fonts, 1 dirs\n",
            "/usr/share/fonts/truetype: caching, new cache contents: 0 fonts, 3 dirs\n",
            "/usr/share/fonts/truetype/humor-sans: caching, new cache contents: 1 fonts, 0 dirs\n",
            "/usr/share/fonts/truetype/liberation: caching, new cache contents: 16 fonts, 0 dirs\n",
            "/usr/share/fonts/truetype/nanum: caching, new cache contents: 12 fonts, 0 dirs\n",
            "/usr/local/share/fonts: caching, new cache contents: 0 fonts, 0 dirs\n",
            "/root/.local/share/fonts: skipping, no such directory\n",
            "/root/.fonts: skipping, no such directory\n",
            "/usr/share/fonts/truetype: skipping, looped directory detected\n",
            "/usr/share/fonts/truetype/humor-sans: skipping, looped directory detected\n",
            "/usr/share/fonts/truetype/liberation: skipping, looped directory detected\n",
            "/usr/share/fonts/truetype/nanum: skipping, looped directory detected\n",
            "/var/cache/fontconfig: cleaning cache directory\n",
            "/root/.cache/fontconfig: not cleaning non-existent cache directory\n",
            "/root/.fontconfig: not cleaning non-existent cache directory\n",
            "fc-cache: succeeded\n"
          ]
        }
      ]
    },
    {
      "cell_type": "code",
      "source": [
        "import numpy as np\n",
        "import pandas as pd\n",
        "import matplotlib as mp\n",
        "import matplotlib.pyplot as plt\n",
        "import seaborn as sns\n",
        "\n",
        "plt.rc('font', family='NanumBarunGothic')\n",
        "\n",
        "# grid는 격자무늬를 표시한다.\n",
        "plt.title('한글')\n",
        "plt.grid()\n",
        "plt.xlabel('x축')\n",
        "plt.ylabel('y축', rotation=0)\n",
        "#x축 눈금\n",
        "plt.xticks([1,2,3], rotation=20)\n",
        "\n",
        "plt.yticks(ticks=[2,3,4], labels=['A','B','C'])\n",
        "\n",
        "plt.ylim(0,5)\n",
        "plt.plot([1,2,3])"
      ],
      "metadata": {
        "colab": {
          "base_uri": "https://localhost:8080/",
          "height": 1000
        },
        "id": "jRIBGBV1logu",
        "outputId": "23907acf-fbb2-4fed-ec2d-fd834463daab"
      },
      "execution_count": null,
      "outputs": [
        {
          "output_type": "execute_result",
          "data": {
            "text/plain": [
              "[<matplotlib.lines.Line2D at 0x7ada0c29a2f0>]"
            ]
          },
          "metadata": {},
          "execution_count": 40
        },
        {
          "output_type": "stream",
          "name": "stderr",
          "text": [
            "WARNING:matplotlib.font_manager:findfont: Font family 'NanumBarunGothic' not found.\n",
            "WARNING:matplotlib.font_manager:findfont: Font family 'NanumBarunGothic' not found.\n",
            "WARNING:matplotlib.font_manager:findfont: Font family 'NanumBarunGothic' not found.\n",
            "WARNING:matplotlib.font_manager:findfont: Font family 'NanumBarunGothic' not found.\n",
            "WARNING:matplotlib.font_manager:findfont: Font family 'NanumBarunGothic' not found.\n",
            "WARNING:matplotlib.font_manager:findfont: Font family 'NanumBarunGothic' not found.\n",
            "WARNING:matplotlib.font_manager:findfont: Font family 'NanumBarunGothic' not found.\n",
            "WARNING:matplotlib.font_manager:findfont: Font family 'NanumBarunGothic' not found.\n",
            "WARNING:matplotlib.font_manager:findfont: Font family 'NanumBarunGothic' not found.\n",
            "WARNING:matplotlib.font_manager:findfont: Font family 'NanumBarunGothic' not found.\n",
            "WARNING:matplotlib.font_manager:findfont: Font family 'NanumBarunGothic' not found.\n",
            "WARNING:matplotlib.font_manager:findfont: Font family 'NanumBarunGothic' not found.\n",
            "WARNING:matplotlib.font_manager:findfont: Font family 'NanumBarunGothic' not found.\n",
            "WARNING:matplotlib.font_manager:findfont: Font family 'NanumBarunGothic' not found.\n",
            "WARNING:matplotlib.font_manager:findfont: Font family 'NanumBarunGothic' not found.\n",
            "WARNING:matplotlib.font_manager:findfont: Font family 'NanumBarunGothic' not found.\n",
            "WARNING:matplotlib.font_manager:findfont: Font family 'NanumBarunGothic' not found.\n",
            "WARNING:matplotlib.font_manager:findfont: Font family 'NanumBarunGothic' not found.\n",
            "WARNING:matplotlib.font_manager:findfont: Font family 'NanumBarunGothic' not found.\n",
            "WARNING:matplotlib.font_manager:findfont: Font family 'NanumBarunGothic' not found.\n",
            "WARNING:matplotlib.font_manager:findfont: Font family 'NanumBarunGothic' not found.\n",
            "WARNING:matplotlib.font_manager:findfont: Font family 'NanumBarunGothic' not found.\n",
            "WARNING:matplotlib.font_manager:findfont: Font family 'NanumBarunGothic' not found.\n",
            "WARNING:matplotlib.font_manager:findfont: Font family 'NanumBarunGothic' not found.\n",
            "WARNING:matplotlib.font_manager:findfont: Font family 'NanumBarunGothic' not found.\n",
            "WARNING:matplotlib.font_manager:findfont: Font family 'NanumBarunGothic' not found.\n",
            "WARNING:matplotlib.font_manager:findfont: Font family 'NanumBarunGothic' not found.\n",
            "WARNING:matplotlib.font_manager:findfont: Font family 'NanumBarunGothic' not found.\n",
            "WARNING:matplotlib.font_manager:findfont: Font family 'NanumBarunGothic' not found.\n",
            "WARNING:matplotlib.font_manager:findfont: Font family 'NanumBarunGothic' not found.\n",
            "WARNING:matplotlib.font_manager:findfont: Font family 'NanumBarunGothic' not found.\n",
            "WARNING:matplotlib.font_manager:findfont: Font family 'NanumBarunGothic' not found.\n",
            "WARNING:matplotlib.font_manager:findfont: Font family 'NanumBarunGothic' not found.\n",
            "WARNING:matplotlib.font_manager:findfont: Font family 'NanumBarunGothic' not found.\n",
            "WARNING:matplotlib.font_manager:findfont: Font family 'NanumBarunGothic' not found.\n",
            "WARNING:matplotlib.font_manager:findfont: Font family 'NanumBarunGothic' not found.\n"
          ]
        },
        {
          "output_type": "display_data",
          "data": {
            "text/plain": [
              "<Figure size 640x480 with 1 Axes>"
            ],
            "image/png": "[encoded data removed]"
          },
          "metadata": {}
        }
      ]
    },
    {
      "cell_type": "markdown",
      "source": [
        "- 코랩은 웹브라우저에서 텍스트와 프로그램을 작성할 수 있는 온라인 텍스트 에디터 이다.\n",
        " - 클라우드 기반의 주피터 노트북 개발환경이다.\n",
        " - 코랩은 텍스트를 입력할 수 있는 텍스트 셀과 코드를 입력할 수 있는 코드셀를 제공한다.\n",
        "\n",
        " ### [실행 방법]\n",
        " - Ctrl + Enter : 실행하고 커서가 현재 위치에 그대로 있다.\n",
        " - Alt + Enter : 실행하고 다음 셀을 생성해 준다.\n",
        " - Shift + Enter : 실행하고 이동할 셀이 있으면 이동만하고 이동할 셀이 없으면 새로 셀을 생성한다.\n",
        "\n",
        " ### [ 단축키]\n",
        " - Ctrl + M A  : 코드 셀 위에 삽입\n",
        " - Ctrl + M B  : 코드 셀 아래 삽입\n",
        " - Ctrl + M D  : 셀 삭제\n",
        " - Ctrl + M M  : 마크다운(텍스트)셀로 변경\n",
        " - Ctrl + M Y  : 코드셀로 변경\n",
        " - Ctrl + M Z  : 실행 취소\n",
        " - Ctrl + M H  : 단축키 모음을 보여줌\n",
        "\n",
        "* MAC을 사용하는 경우 Ctrl 대신 Command사용\n",
        "\n",
        "### [ 입력 및 편집 이동]\n",
        " - 입력 -> 편집 이동 : ESC\n",
        " - 편집 -> 입력 이동 : Enter\n",
        "\n",
        "### [제목]\n",
        "제목은 #1 ~ #6가지 형태로 표현할 수 있다.\n",
        "\n",
        "# 제목1\n",
        "## 제목2\n",
        "### 제목3\n",
        "#### 제목4\n",
        "##### 제목5\n",
        "###### 제목6\n",
        "\n",
        "### 구분선\n",
        "-를 세개 이상 쓰면 가로선을 그어 구분영역을 표시할 수 있다.\n",
        "\n",
        "---\n",
        "\n",
        "### 줄바꿈\n",
        "맨 끝에 공백문자 2개 이상(스페이스)을 사용하면 줄바꿈한다.\n",
        "red  \n",
        "green  \n",
        "blue  \n",
        "\n",
        "\n",
        "### 목록\n",
        "순서가 있는 목록과 순서가 없는 목록을 지원한다.\n",
        "1. 리스트1\n",
        "2. 리스트2\n",
        "3. 리스트3\n",
        "\n",
        "- 리스트1\n",
        "- 리스트2\n",
        "- 리스트3\n",
        "  - 리스트3_1\n",
        "  - 리스트3_2"
      ],
      "metadata": {
        "id": "LLWvDwb3tGf-"
      }
    },
    {
      "cell_type": "markdown",
      "source": [
        "### 웹주소\n",
        "웹주소를 입력하면 자동으로 하이퍼 링크가 생긴다.  \n",
        "http://www.python.org"
      ],
      "metadata": {
        "id": "Suc4L83NtOsl"
      }
    },
    {
      "cell_type": "markdown",
      "source": [
        "### 강조\n",
        "***굵게***테스트   \n",
        "___기울기___테스트"
      ],
      "metadata": {
        "id": "Hpw6NzNKtQ31"
      }
    },
    {
      "cell_type": "markdown",
      "source": [
        "### 코드블록\n",
        "```python\n",
        "import python\n",
        "def x(self):\n",
        "  return self.x\n",
        "```\n",
        "\n",
        "```java\n",
        "public class Test{\n",
        "  public static void main(String[] args){\n",
        "    System.out.println(\"Hello Java\");\n",
        "  }\n",
        "}\n",
        "```"
      ],
      "metadata": {
        "id": "u2K4Vdh_tTSN"
      }
    },
    {
      "cell_type": "markdown",
      "source": [],
      "metadata": {
        "id": "EHoU2G-GtVS1"
      }
    }
  ]
}